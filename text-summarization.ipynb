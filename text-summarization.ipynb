{
 "cells": [
  {
   "cell_type": "markdown",
   "metadata": {},
   "source": [
    "# Text Summarization"
   ]
  },
  {
   "cell_type": "code",
   "execution_count": 1,
   "metadata": {},
   "outputs": [
    {
     "name": "stdout",
     "output_type": "stream",
     "text": [
      "Using matplotlib backend: MacOSX\n"
     ]
    }
   ],
   "source": [
    "import numpy as np\n",
    "from nltk.tokenize import sent_tokenize\n",
    "from nltk.corpus import brown, stopwords\n",
    "from nltk.cluster.util import cosine_distance\n",
    "from operator import itemgetter\n",
    "import matplotlib.pyplot as plt\n",
    "%matplotlib"
   ]
  },
  {
   "cell_type": "code",
   "execution_count": 2,
   "metadata": {},
   "outputs": [],
   "source": [
    "# sentences = brown.sents('ca01')\n",
    "stop_words = stopwords.words(\"english\")"
   ]
  },
  {
   "cell_type": "code",
   "execution_count": 3,
   "metadata": {},
   "outputs": [],
   "source": [
    "sentences = \"\"\"The PageRank algorithm views the web as a directed graph with the pages being nodes and hyperlinks being connections between those nodes. It can be used to rank the nodes of any kind of graph (including undirected ones) by importance. This description uses graph terminology and only shows how it is done for a directed graph such as the webgraph.\n",
    "While it is accurate to say that PageRank will tell you the importance of each page, a more accurate definition is that PageRank assigns a probability to each page. Specifically, the PageRank value of a page is the probability, between 0 and 1, that someone surfing by clicking links at random will end up on that page. It also models boredom through a ‘damping factor’: after so many clicks, the simulated surfer will get bored and stop browsing.\n",
    "Because finding the PageRank probability value for an individual node in a graph will depend on the PageRank value of all the nodes which connect to it, and those nodes might connect cyclically to the node whose ranking we want, PageRank values are usually assigned using a converging iterative method.\n",
    "The Python procedure takes its argument in a similar format to tsort: the graph argument is an iterable of two-element sequences. It also accepts optional arguments for the damping factor (damping) and the amount of convergence required (epsilon). epsilon is the smallest cumulative change in the PageRank of all nodes which will be accepted as sufficient convergence. \"\"\""
   ]
  },
  {
   "cell_type": "code",
   "execution_count": 4,
   "metadata": {},
   "outputs": [],
   "source": [
    "sentences = sent_tokenize(sentences)"
   ]
  },
  {
   "cell_type": "code",
   "execution_count": 5,
   "metadata": {},
   "outputs": [
    {
     "data": {
      "text/plain": [
       "10"
      ]
     },
     "execution_count": 5,
     "metadata": {},
     "output_type": "execute_result"
    }
   ],
   "source": [
    "len(sentences)"
   ]
  },
  {
   "cell_type": "code",
   "execution_count": 6,
   "metadata": {},
   "outputs": [],
   "source": [
    "def pagerank(A, eps=0.0001, d=0.85):\n",
    "    P = np.ones(len(A)) / len(A)\n",
    "    while True:\n",
    "        new_P = np.ones(len(A)) * (1 - d) / len(A) + d * A.T.dot(P)\n",
    "        delta = abs((new_P - P).sum())\n",
    "        if delta <= eps:\n",
    "            return new_P\n",
    "        P = new_P"
   ]
  },
  {
   "cell_type": "code",
   "execution_count": 7,
   "metadata": {},
   "outputs": [],
   "source": [
    "def sentence_similarity(sent1, sent2, stop_words=None):\n",
    "    if stop_words is None:\n",
    "        stop_words = []\n",
    "    sent1 = [w.lower() for w in sent1]\n",
    "    sent2 = [w.lower() for w in sent2]\n",
    "    \n",
    "    all_words = list(set(sent1 + sent2))\n",
    "    \n",
    "    vector1 = [0] * len(all_words)\n",
    "    vector2 = [0] * len(all_words)\n",
    "    \n",
    "    for w in sent1:\n",
    "        if w not in stop_words:\n",
    "            vector1[all_words.index(w)] += 1\n",
    "    \n",
    "    for w in sent2:\n",
    "        if w not in stop_words:\n",
    "            vector2[all_words.index(w)] += 1\n",
    "    \n",
    "    return 1 - cosine_distance(vector1, vector2)"
   ]
  },
  {
   "cell_type": "code",
   "execution_count": 8,
   "metadata": {},
   "outputs": [
    {
     "data": {
      "text/plain": [
       "['The PageRank algorithm views the web as a directed graph with the pages being nodes and hyperlinks being connections between those nodes.',\n",
       " 'It can be used to rank the nodes of any kind of graph (including undirected ones) by importance.',\n",
       " 'This description uses graph terminology and only shows how it is done for a directed graph such as the webgraph.',\n",
       " 'While it is accurate to say that PageRank will tell you the importance of each page, a more accurate definition is that PageRank assigns a probability to each page.',\n",
       " 'Specifically, the PageRank value of a page is the probability, between 0 and 1, that someone surfing by clicking links at random will end up on that page.',\n",
       " 'It also models boredom through a ‘damping factor’: after so many clicks, the simulated surfer will get bored and stop browsing.',\n",
       " 'Because finding the PageRank probability value for an individual node in a graph will depend on the PageRank value of all the nodes which connect to it, and those nodes might connect cyclically to the node whose ranking we want, PageRank values are usually assigned using a converging iterative method.',\n",
       " 'The Python procedure takes its argument in a similar format to tsort: the graph argument is an iterable of two-element sequences.',\n",
       " 'It also accepts optional arguments for the damping factor (damping) and the amount of convergence required (epsilon).',\n",
       " 'epsilon is the smallest cumulative change in the PageRank of all nodes which will be accepted as sufficient convergence.']"
      ]
     },
     "execution_count": 8,
     "metadata": {},
     "output_type": "execute_result"
    }
   ],
   "source": [
    "[''.join(sent) for sent in sentences]"
   ]
  },
  {
   "cell_type": "code",
   "execution_count": 9,
   "metadata": {},
   "outputs": [],
   "source": [
    "def build_similarity_matrix(sentences, stop_words=None):\n",
    "    S = np.zeros((len(sentences), len(sentences)))\n",
    "    for i in range(len(sentences)):\n",
    "        for j in range(len(sentences)):\n",
    "            if i == j:\n",
    "                continue\n",
    "            else:\n",
    "                S[i][j] = sentence_similarity(sentences[i], sentences[j], stop_words)\n",
    "    \n",
    "    for i in range(len(S)):\n",
    "        S[i] /= S[i].sum()\n",
    "    return S"
   ]
  },
  {
   "cell_type": "code",
   "execution_count": 10,
   "metadata": {},
   "outputs": [],
   "source": [
    "S = build_similarity_matrix(sentences, stop_words)"
   ]
  },
  {
   "cell_type": "code",
   "execution_count": 11,
   "metadata": {},
   "outputs": [
    {
     "data": {
      "text/plain": [
       "array([[0.        , 0.11023498, 0.11130816, 0.11167268, 0.11145898,\n",
       "        0.10597873, 0.11439891, 0.11364103, 0.10984641, 0.11146012],\n",
       "       [0.10923643, 0.        , 0.10857905, 0.1115095 , 0.11299607,\n",
       "        0.10882081, 0.11452241, 0.11152675, 0.11446541, 0.10834355],\n",
       "       [0.11066315, 0.10893665, 0.        , 0.11555006, 0.11129961,\n",
       "        0.11327177, 0.11165814, 0.1127739 , 0.10958736, 0.10625935],\n",
       "       [0.10826185, 0.10909186, 0.11267372, 0.        , 0.11351447,\n",
       "        0.11289927, 0.1119161 , 0.11154207, 0.11001917, 0.11008148],\n",
       "       [0.10865789, 0.11116331, 0.10913494, 0.11414816, 0.        ,\n",
       "        0.11198367, 0.11424824, 0.10982938, 0.11020138, 0.11063302],\n",
       "       [0.10536924, 0.10918401, 0.11327675, 0.11578645, 0.11420986,\n",
       "        0.        , 0.11189047, 0.11314888, 0.10967048, 0.10746385],\n",
       "       [0.11078296, 0.11191634, 0.10875905, 0.11179313, 0.11348916,\n",
       "        0.10898056, 0.        , 0.11071771, 0.11138584, 0.11217525],\n",
       "       [0.11139054, 0.11031742, 0.11118487, 0.11277772, 0.11042959,\n",
       "        0.11154967, 0.11206737, 0.        , 0.11184183, 0.10844098],\n",
       "       [0.1083811 , 0.11397088, 0.10875572, 0.11197151, 0.11153431,\n",
       "        0.10883343, 0.11348712, 0.11257937, 0.        , 0.11048656],\n",
       "       [0.11132189, 0.10919834, 0.10674614, 0.11340881, 0.11334428,\n",
       "        0.10795141, 0.11569298, 0.11049468, 0.11184146, 0.        ]])"
      ]
     },
     "execution_count": 11,
     "metadata": {},
     "output_type": "execute_result"
    }
   ],
   "source": [
    "S"
   ]
  },
  {
   "cell_type": "code",
   "execution_count": 12,
   "metadata": {},
   "outputs": [],
   "source": [
    "sentence_ranks = pagerank(S)"
   ]
  },
  {
   "cell_type": "code",
   "execution_count": 13,
   "metadata": {},
   "outputs": [
    {
     "data": {
      "text/plain": [
       "array([0.09864553, 0.09949117, 0.09918556, 0.10158253, 0.10104349,\n",
       "       0.09917289, 0.10168995, 0.10053157, 0.09990305, 0.09875426])"
      ]
     },
     "execution_count": 13,
     "metadata": {},
     "output_type": "execute_result"
    }
   ],
   "source": [
    "sentence_ranks"
   ]
  },
  {
   "cell_type": "code",
   "execution_count": 14,
   "metadata": {},
   "outputs": [],
   "source": [
    "ranked_sentence_indexes = [item[0] for item in sorted(enumerate(sentence_ranks), key=lambda item: -item[1])]"
   ]
  },
  {
   "cell_type": "code",
   "execution_count": 15,
   "metadata": {},
   "outputs": [
    {
     "data": {
      "text/plain": [
       "[6, 3, 4, 7, 8, 1, 2, 5, 9, 0]"
      ]
     },
     "execution_count": 15,
     "metadata": {},
     "output_type": "execute_result"
    }
   ],
   "source": [
    "ranked_sentence_indexes"
   ]
  },
  {
   "cell_type": "code",
   "execution_count": 16,
   "metadata": {},
   "outputs": [
    {
     "data": {
      "image/png": "[encoded data removed]",
      "text/plain": [
       "<matplotlib.figure.Figure at 0x1a0c3e1240>"
      ]
     },
     "metadata": {},
     "output_type": "display_data"
    }
   ],
   "source": [
    "plt.bar([item[0] for item in sorted(enumerate(sentence_ranks))], sentence_ranks)\n",
    "plt.xlabel(\"Sentence No.\")\n",
    "plt.ylabel(\"Importance\")\n",
    "plt.yscale('log')\n",
    "plt.show()"
   ]
  },
  {
   "cell_type": "code",
   "execution_count": 17,
   "metadata": {},
   "outputs": [
    {
     "data": {
      "image/png": "[encoded data removed]",
      "text/plain": [
       "<matplotlib.figure.Figure at 0x1a0c37cf98>"
      ]
     },
     "metadata": {},
     "output_type": "display_data"
    }
   ],
   "source": [
    "plt.plot([item[0] for item in sorted(enumerate(sentence_ranks))], sentence_ranks)\n",
    "plt.xlabel(\"Sentence No.\")\n",
    "plt.ylabel(\"Importance\")\n",
    "plt.show()"
   ]
  },
  {
   "cell_type": "code",
   "execution_count": 18,
   "metadata": {},
   "outputs": [],
   "source": [
    "SUMMARY_SIZE = 2"
   ]
  },
  {
   "cell_type": "code",
   "execution_count": 19,
   "metadata": {},
   "outputs": [],
   "source": [
    "selected_sentences = sorted(ranked_sentence_indexes[:SUMMARY_SIZE])"
   ]
  },
  {
   "cell_type": "code",
   "execution_count": 20,
   "metadata": {},
   "outputs": [
    {
     "data": {
      "text/plain": [
       "[3, 6]"
      ]
     },
     "execution_count": 20,
     "metadata": {},
     "output_type": "execute_result"
    }
   ],
   "source": [
    "selected_sentences"
   ]
  },
  {
   "cell_type": "code",
   "execution_count": 21,
   "metadata": {},
   "outputs": [],
   "source": [
    "summary = itemgetter(*selected_sentences)(sentences)"
   ]
  },
  {
   "cell_type": "code",
   "execution_count": 22,
   "metadata": {},
   "outputs": [
    {
     "name": "stdout",
     "output_type": "stream",
     "text": [
      "While it is accurate to say that PageRank will tell you the importance of each page, a more accurate definition is that PageRank assigns a probability to each page.\n",
      "Because finding the PageRank probability value for an individual node in a graph will depend on the PageRank value of all the nodes which connect to it, and those nodes might connect cyclically to the node whose ranking we want, PageRank values are usually assigned using a converging iterative method.\n"
     ]
    }
   ],
   "source": [
    "for sent in summary:\n",
    "    print(''.join(sent))"
   ]
  }
 ],
 "metadata": {
  "kernelspec": {
   "display_name": "Python 3",
   "language": "python",
   "name": "python3"
  },
  "language_info": {
   "codemirror_mode": {
    "name": "ipython",
    "version": 3
   },
   "file_extension": ".py",
   "mimetype": "text/x-python",
   "name": "python",
   "nbconvert_exporter": "python",
   "pygments_lexer": "ipython3",
   "version": "3.6.4"
  }
 },
 "nbformat": 4,
 "nbformat_minor": 2
}
